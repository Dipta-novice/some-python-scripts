{
 "cells": [
  {
   "cell_type": "code",
   "execution_count": 2,
   "metadata": {
    "colab": {
     "base_uri": "https://localhost:8080/",
     "height": 35
    },
    "executionInfo": {
     "elapsed": 1529,
     "status": "ok",
     "timestamp": 1727674406904,
     "user": {
      "displayName": "Dipta Chatterjee",
      "userId": "00567351410858233334"
     },
     "user_tz": -330
    },
    "id": "T7WkNHWDabNR",
    "outputId": "5013ec3d-1841-4808-be02-52e1d234efbf"
   },
   "outputs": [
    {
     "data": {
      "text/plain": [
       "'olleh'"
      ]
     },
     "execution_count": 2,
     "metadata": {},
     "output_type": "execute_result"
    }
   ],
   "source": [
    "def r(s):\n",
    "    return s[::-1]\n",
    "r('hello')"
   ]
  },
  {
   "cell_type": "markdown",
   "metadata": {
    "id": "ZPWQBxW2bxbr"
   },
   "source": [
    "factorial"
   ]
  },
  {
   "cell_type": "code",
   "execution_count": 3,
   "metadata": {
    "colab": {
     "base_uri": "https://localhost:8080/"
    },
    "executionInfo": {
     "elapsed": 462,
     "status": "ok",
     "timestamp": 1727674789190,
     "user": {
      "displayName": "Dipta Chatterjee",
      "userId": "00567351410858233334"
     },
     "user_tz": -330
    },
    "id": "9aHLkrLka2iK",
    "outputId": "90096150-8aa6-4f5c-cfc3-8c7cacbd0ccc"
   },
   "outputs": [
    {
     "data": {
      "text/plain": [
       "6"
      ]
     },
     "execution_count": 3,
     "metadata": {},
     "output_type": "execute_result"
    }
   ],
   "source": [
    "def f(n):\n",
    "    if n==0:\n",
    "        return 1\n",
    "    else:\n",
    "        return n*f(n-1)\n",
    "x=int(input())\n",
    "f(x)"
   ]
  },
  {
   "cell_type": "markdown",
   "metadata": {
    "id": "UhBOf8EHcYqR"
   },
   "source": [
    "find primes"
   ]
  },
  {
   "cell_type": "code",
   "execution_count": 37,
   "metadata": {
    "colab": {
     "base_uri": "https://localhost:8080/"
    },
    "executionInfo": {
     "elapsed": 469,
     "status": "ok",
     "timestamp": 1727680347222,
     "user": {
      "displayName": "Dipta Chatterjee",
      "userId": "00567351410858233334"
     },
     "user_tz": -330
    },
    "id": "5KOIgSNxcQU8",
    "outputId": "8eb2c92e-40cd-4ae3-d37f-50c14fa75d48"
   },
   "outputs": [
    {
     "data": {
      "text/plain": [
       "'prime'"
      ]
     },
     "execution_count": 37,
     "metadata": {},
     "output_type": "execute_result"
    }
   ],
   "source": [
    "def isp(n):\n",
    "    if n<2:\n",
    "        return('not prime')\n",
    "    elif n==2:\n",
    "        return('prime')\n",
    "    else:\n",
    "        for i in range(2,n):\n",
    "            if n%i==0:\n",
    "                return('not prime')\n",
    "                break\n",
    "            else:\n",
    "                return('prime')\n",
    "isp(7)"
   ]
  },
  {
   "cell_type": "code",
   "execution_count": 34,
   "metadata": {},
   "outputs": [
    {
     "data": {
      "text/plain": [
       "[2, 3, 5, 7, 9, 11, 13, 15, 17, 19]"
      ]
     },
     "execution_count": 34,
     "metadata": {},
     "output_type": "execute_result"
    }
   ],
   "source": [
    "def plist(a,b):\n",
    "    l=[]\n",
    "    for i in range(a,b+1):\n",
    "        if isp(i)=='prime':\n",
    "            l.append(i)\n",
    "    return l\n",
    "\n",
    "plist(2,20)"
   ]
  },
  {
   "cell_type": "markdown",
   "metadata": {
    "id": "lajufDRtDI3L"
   },
   "source": [
    "min element of a list"
   ]
  },
  {
   "cell_type": "code",
   "execution_count": 38,
   "metadata": {
    "colab": {
     "base_uri": "https://localhost:8080/"
    },
    "executionInfo": {
     "elapsed": 417,
     "status": "ok",
     "timestamp": 1727681573408,
     "user": {
      "displayName": "Dipta Chatterjee",
      "userId": "00567351410858233334"
     },
     "user_tz": -330
    },
    "id": "7gyFfRkyvL6Y",
    "outputId": "5588ba83-e7bf-4934-d099-3241a277de75"
   },
   "outputs": [
    {
     "data": {
      "text/plain": [
       "2"
      ]
     },
     "execution_count": 38,
     "metadata": {},
     "output_type": "execute_result"
    }
   ],
   "source": [
    "l=[2, 3, 5, 7, 11, 13, 17, 19]\n",
    "y=min(l)\n",
    "y"
   ]
  },
  {
   "cell_type": "code",
   "execution_count": null,
   "metadata": {},
   "outputs": [],
   "source": []
  },
  {
   "cell_type": "markdown",
   "metadata": {
    "id": "QOgYAWZ6DIIL"
   },
   "source": [
    "sum of a digit"
   ]
  },
  {
   "cell_type": "code",
   "execution_count": 6,
   "metadata": {},
   "outputs": [
    {
     "name": "stdout",
     "output_type": "stream",
     "text": [
      "s\n",
      "t\n",
      "f\n",
      "s\n",
      "t\n"
     ]
    }
   ],
   "source": [
    "x='stfst'\n",
    "for i in x:\n",
    "    print(i)"
   ]
  },
  {
   "cell_type": "code",
   "execution_count": 7,
   "metadata": {
    "colab": {
     "base_uri": "https://localhost:8080/"
    },
    "executionInfo": {
     "elapsed": 533,
     "status": "ok",
     "timestamp": 1727685147627,
     "user": {
      "displayName": "Dipta Chatterjee",
      "userId": "00567351410858233334"
     },
     "user_tz": -330
    },
    "id": "iMj1Fd3M2ILU",
    "outputId": "a32a7df1-c448-4412-ff27-bdd44e816e00"
   },
   "outputs": [
    {
     "data": {
      "text/plain": [
       "6"
      ]
     },
     "execution_count": 7,
     "metadata": {},
     "output_type": "execute_result"
    }
   ],
   "source": [
    "def sumd(s):\n",
    "    n=str(s)\n",
    "    sum=0\n",
    "    for i in n:\n",
    "        sum+=int(i)\n",
    "    return sum\n",
    "sumd(123)\n",
    "\n"
   ]
  },
  {
   "cell_type": "markdown",
   "metadata": {
    "id": "qZ5kZznczoIL"
   },
   "source": [
    "mean of a list"
   ]
  },
  {
   "cell_type": "code",
   "execution_count": 8,
   "metadata": {
    "colab": {
     "base_uri": "https://localhost:8080/"
    },
    "executionInfo": {
     "elapsed": 469,
     "status": "ok",
     "timestamp": 1728991932081,
     "user": {
      "displayName": "Dipta Chatterjee",
      "userId": "00567351410858233334"
     },
     "user_tz": -330
    },
    "id": "dqqoauH7DvC9",
    "outputId": "72c70ccd-58a6-4f6e-8df1-fdbb333970e1"
   },
   "outputs": [
    {
     "data": {
      "text/plain": [
       "27.8"
      ]
     },
     "execution_count": 8,
     "metadata": {},
     "output_type": "execute_result"
    }
   ],
   "source": [
    "def avg(l):\n",
    "    s=sum(l)\n",
    "    n=len(l)\n",
    "    return(s/n)\n",
    "avg([7,89,2,1,40])"
   ]
  },
  {
   "cell_type": "markdown",
   "metadata": {
    "id": "40bujHa_eHRd"
   },
   "source": [
    " Create a dictionary, add elements to it, modify an element, and then print the dictionary in alphabetical order of keys"
   ]
  },
  {
   "cell_type": "code",
   "execution_count": 9,
   "metadata": {
    "colab": {
     "base_uri": "https://localhost:8080/"
    },
    "executionInfo": {
     "elapsed": 501,
     "status": "ok",
     "timestamp": 1727708980981,
     "user": {
      "displayName": "Dipta Chatterjee",
      "userId": "00567351410858233334"
     },
     "user_tz": -330
    },
    "id": "q3UtNTE10H0P",
    "outputId": "99dabdc6-d7fa-41d9-943f-eae335a88137"
   },
   "outputs": [
    {
     "name": "stdout",
     "output_type": "stream",
     "text": [
      "['apple', 'banana', 'orange']\n"
     ]
    },
    {
     "data": {
      "text/plain": [
       "{'banana': 6, 'apple': 5, 'orange': 2}"
      ]
     },
     "execution_count": 9,
     "metadata": {},
     "output_type": "execute_result"
    }
   ],
   "source": [
    "# Create an empty dictionary\n",
    "my_dict = {}\n",
    "\n",
    "# Add elements to the dictionary\n",
    "my_dict['banana'] = 3\n",
    "my_dict['apple'] = 5\n",
    "my_dict['orange'] = 2\n",
    "\n",
    "# Modify an element in the dictionary\n",
    "my_dict['banana'] = 6\n",
    "\n",
    "print(sorted(my_dict.keys()))\n",
    "\n",
    "my_dict"
   ]
  },
  {
   "cell_type": "code",
   "execution_count": 6,
   "metadata": {},
   "outputs": [
    {
     "name": "stdout",
     "output_type": "stream",
     "text": [
      "{4: 'Bob Brown', 1: 'John Doe', 3: 'Alice Johnson', 2: 'Jane Smith'}\n"
     ]
    }
   ],
   "source": [
    "# Sample dictionary of full names\n",
    "people = {\n",
    "    1: \"John Doe\",\n",
    "    2: \"Jane Smith\",\n",
    "    3: \"Alice Johnson\",\n",
    "    4: \"Bob Brown\"\n",
    "}\n",
    "\n",
    "# Sort the dictionary by surname\n",
    "sorted_people = dict(sorted(people.items(), key=lambda item: item[1].split()[-1]))\n",
    "\n",
    "# Display the sorted dictionary\n",
    "print(sorted_people)\n"
   ]
  },
  {
   "cell_type": "code",
   "execution_count": 7,
   "metadata": {},
   "outputs": [
    {
     "name": "stdout",
     "output_type": "stream",
     "text": [
      "__main__\n"
     ]
    }
   ],
   "source": [
    "print(__name__)"
   ]
  },
  {
   "cell_type": "markdown",
   "metadata": {},
   "source": [
    "item[1]: Refers to the full name in the dictionary.\n",
    ".split()[-1]: Splits the full name into parts and takes the last part (assumed to be the surname)."
   ]
  },
  {
   "cell_type": "markdown",
   "metadata": {
    "id": "uBbqKS00fMSB"
   },
   "source": [
    "Find unique values in a list of assorted numbers and print the count of how many times each value is repeated."
   ]
  },
  {
   "cell_type": "code",
   "execution_count": 10,
   "metadata": {},
   "outputs": [
    {
     "name": "stdout",
     "output_type": "stream",
     "text": [
      "{0, 2.7, 3, 2.6666666666666665, 11, -5, -1.5}\n"
     ]
    }
   ],
   "source": [
    "numbers = [3, -5, 2.7, 11, 3, -1.5, 11, 0, 3, 2.7, -5, 8/3, 11]\n",
    "print(set(numbers))"
   ]
  },
  {
   "cell_type": "code",
   "execution_count": 11,
   "metadata": {
    "colab": {
     "base_uri": "https://localhost:8080/"
    },
    "executionInfo": {
     "elapsed": 503,
     "status": "ok",
     "timestamp": 1727711622756,
     "user": {
      "displayName": "Dipta Chatterjee",
      "userId": "00567351410858233334"
     },
     "user_tz": -330
    },
    "id": "4iOH3I0feuDa",
    "outputId": "847603c5-2f8a-4867-e5d5-9f1feed1b545"
   },
   "outputs": [
    {
     "name": "stdout",
     "output_type": "stream",
     "text": [
      "{3: 3, -5: 2, 2.7: 2, 11: 3, -1.5: 1, 0: 1, 2.6666666666666665: 1}\n"
     ]
    }
   ],
   "source": [
    "numbers = [3, -5, 2.7, 11, 3, -1.5, 11, 0, 3, 2.7, -5, 8/3, 11]\n",
    "count={}\n",
    "for i in numbers:\n",
    "    if i in count:\n",
    "        count[i]+=1\n",
    "    else:\n",
    "        count[i]=1\n",
    "print (count)\n"
   ]
  },
  {
   "cell_type": "markdown",
   "metadata": {
    "id": "3lMb73jSpCtp"
   },
   "source": [
    "Find and print duplicate values in a list of assorted numbers, along with the number of times each value is repeated\n",
    "\n"
   ]
  },
  {
   "cell_type": "code",
   "execution_count": 12,
   "metadata": {
    "colab": {
     "base_uri": "https://localhost:8080/"
    },
    "executionInfo": {
     "elapsed": 534,
     "status": "ok",
     "timestamp": 1727713161228,
     "user": {
      "displayName": "Dipta Chatterjee",
      "userId": "00567351410858233334"
     },
     "user_tz": -330
    },
    "id": "r-t1-ZRBozFK",
    "outputId": "03bd109c-2154-47b1-dfae-0fd22df24bfb"
   },
   "outputs": [
    {
     "name": "stdout",
     "output_type": "stream",
     "text": [
      "3:3\n",
      "-5:2\n",
      "2.7:2\n",
      "11:3\n"
     ]
    }
   ],
   "source": [
    "for key,value in count.items():\n",
    "    if value>1:\n",
    "        print(f\"{key}:{value}\")\n"
   ]
  },
  {
   "cell_type": "markdown",
   "metadata": {
    "id": "EVPkQ1mUvLAn"
   },
   "source": [
    " Write a function that returns the count of even and odd numbers from a provided list of integers."
   ]
  },
  {
   "cell_type": "code",
   "execution_count": 13,
   "metadata": {
    "colab": {
     "base_uri": "https://localhost:8080/"
    },
    "executionInfo": {
     "elapsed": 606,
     "status": "ok",
     "timestamp": 1727965409351,
     "user": {
      "displayName": "Dipta Chatterjee",
      "userId": "00567351410858233334"
     },
     "user_tz": -330
    },
    "id": "clRo8OPUnaBN",
    "outputId": "aeb32a04-63a9-4f83-d21b-d385841e6c2a"
   },
   "outputs": [
    {
     "data": {
      "text/plain": [
       "(2, 2)"
      ]
     },
     "execution_count": 13,
     "metadata": {},
     "output_type": "execute_result"
    }
   ],
   "source": [
    "def count(l):\n",
    "    counte=0\n",
    "    counto=0\n",
    "    for i in l:\n",
    "        if i%2==0:\n",
    "            counte+=1\n",
    "        elif i%2==1:\n",
    "            counto+=1\n",
    "    return counte,counto\n",
    "l=[1,2,3,4]\n",
    "count(l)"
   ]
  },
  {
   "cell_type": "markdown",
   "metadata": {
    "id": "nbVw7f5c80cG"
   },
   "source": [
    "Python Program for Sum of squares of first n natural numbers"
   ]
  },
  {
   "cell_type": "code",
   "execution_count": 14,
   "metadata": {
    "colab": {
     "base_uri": "https://localhost:8080/"
    },
    "executionInfo": {
     "elapsed": 1681,
     "status": "ok",
     "timestamp": 1728018988735,
     "user": {
      "displayName": "Dipta Chatterjee",
      "userId": "00567351410858233334"
     },
     "user_tz": -330
    },
    "id": "7gxxdSokw0xm",
    "outputId": "eaa4ae44-7920-4123-beb6-90988a26639a"
   },
   "outputs": [
    {
     "data": {
      "text/plain": [
       "14"
      ]
     },
     "execution_count": 14,
     "metadata": {},
     "output_type": "execute_result"
    }
   ],
   "source": [
    "def s(n):\n",
    "    sum=0\n",
    "    for i in range(1,n+1):\n",
    "        sum+=i**2\n",
    "    return sum\n",
    "s(3)"
   ]
  },
  {
   "cell_type": "markdown",
   "metadata": {
    "id": "vwmD90kS_K5s"
   },
   "source": [
    "Python Program to find largest element in an array"
   ]
  },
  {
   "cell_type": "code",
   "execution_count": 15,
   "metadata": {
    "colab": {
     "base_uri": "https://localhost:8080/"
    },
    "executionInfo": {
     "elapsed": 427,
     "status": "ok",
     "timestamp": 1728019600147,
     "user": {
      "displayName": "Dipta Chatterjee",
      "userId": "00567351410858233334"
     },
     "user_tz": -330
    },
    "id": "UqNz0lL59Pa_",
    "outputId": "3aadfad1-eaca-4de6-c293-092e60664f23"
   },
   "outputs": [
    {
     "name": "stdout",
     "output_type": "stream",
     "text": [
      "89\n"
     ]
    }
   ],
   "source": [
    "a=[1,3,9,0,8,89]\n",
    "y=sorted(a)\n",
    "print(y[-1])"
   ]
  },
  {
   "cell_type": "markdown",
   "metadata": {
    "id": "IoYV8BUTGTkG"
   },
   "source": [
    "Python program to interchange first and last elements in a list"
   ]
  },
  {
   "cell_type": "code",
   "execution_count": 16,
   "metadata": {
    "colab": {
     "base_uri": "https://localhost:8080/"
    },
    "executionInfo": {
     "elapsed": 457,
     "status": "ok",
     "timestamp": 1728021458541,
     "user": {
      "displayName": "Dipta Chatterjee",
      "userId": "00567351410858233334"
     },
     "user_tz": -330
    },
    "id": "dfIsPN6J_o5O",
    "outputId": "21157f90-52bf-43dc-aec8-9630951efa07"
   },
   "outputs": [
    {
     "data": {
      "text/plain": [
       "[89, 3, 9, 0, 8, 1]"
      ]
     },
     "execution_count": 16,
     "metadata": {},
     "output_type": "execute_result"
    }
   ],
   "source": [
    "l=[1,3,9,0,8,89]\n",
    "l[0],l[-1]=l[-1],l[0]\n",
    "\n",
    "l"
   ]
  },
  {
   "cell_type": "markdown",
   "metadata": {
    "id": "63twq17xGwZX"
   },
   "source": [
    "Python program to swap two elements in a list"
   ]
  },
  {
   "cell_type": "code",
   "execution_count": 17,
   "metadata": {
    "colab": {
     "base_uri": "https://localhost:8080/"
    },
    "executionInfo": {
     "elapsed": 5,
     "status": "ok",
     "timestamp": 1728021674629,
     "user": {
      "displayName": "Dipta Chatterjee",
      "userId": "00567351410858233334"
     },
     "user_tz": -330
    },
    "id": "JejZ6WQeGcwp",
    "outputId": "33305452-3315-408d-8211-af60a0c82943"
   },
   "outputs": [
    {
     "data": {
      "text/plain": [
       "[1, 3, 0, 9, 8, 89]"
      ]
     },
     "execution_count": 17,
     "metadata": {},
     "output_type": "execute_result"
    }
   ],
   "source": [
    "l=[1,3,9,0,8,89]\n",
    "l[2],l[3]=l[3],l[2]\n",
    "l"
   ]
  },
  {
   "cell_type": "markdown",
   "metadata": {
    "id": "4bv84YGfH1I5"
   },
   "source": [
    "clear a list in Python"
   ]
  },
  {
   "cell_type": "code",
   "execution_count": 18,
   "metadata": {
    "colab": {
     "base_uri": "https://localhost:8080/"
    },
    "executionInfo": {
     "elapsed": 448,
     "status": "ok",
     "timestamp": 1728021773715,
     "user": {
      "displayName": "Dipta Chatterjee",
      "userId": "00567351410858233334"
     },
     "user_tz": -330
    },
    "id": "BAoN0ztZHjc7",
    "outputId": "0ab6c55a-a312-4c0c-80fb-83066337899d"
   },
   "outputs": [
    {
     "data": {
      "text/plain": [
       "[]"
      ]
     },
     "execution_count": 18,
     "metadata": {},
     "output_type": "execute_result"
    }
   ],
   "source": [
    "l=[1,3,9,0,8,89]\n",
    "l.clear()\n",
    "l"
   ]
  },
  {
   "cell_type": "markdown",
   "metadata": {
    "id": "hcdJ9AS1IB6H"
   },
   "source": [
    "Reversing a List"
   ]
  },
  {
   "cell_type": "code",
   "execution_count": 19,
   "metadata": {
    "colab": {
     "base_uri": "https://localhost:8080/"
    },
    "executionInfo": {
     "elapsed": 439,
     "status": "ok",
     "timestamp": 1728021843784,
     "user": {
      "displayName": "Dipta Chatterjee",
      "userId": "00567351410858233334"
     },
     "user_tz": -330
    },
    "id": "TEV74YuVH6HP",
    "outputId": "e1295f77-8665-4a6c-c2d7-f4af76c76b43"
   },
   "outputs": [
    {
     "name": "stdout",
     "output_type": "stream",
     "text": [
      "[89, 8, 0, 9, 3, 1]\n"
     ]
    }
   ],
   "source": [
    "l=[1,3,9,0,8,89]\n",
    "print(l[::-1])"
   ]
  },
  {
   "cell_type": "markdown",
   "metadata": {
    "id": "HFOZQcMmIOKR"
   },
   "source": [
    "find sum of elements in list"
   ]
  },
  {
   "cell_type": "code",
   "execution_count": 20,
   "metadata": {
    "colab": {
     "base_uri": "https://localhost:8080/"
    },
    "executionInfo": {
     "elapsed": 468,
     "status": "ok",
     "timestamp": 1728022163081,
     "user": {
      "displayName": "Dipta Chatterjee",
      "userId": "00567351410858233334"
     },
     "user_tz": -330
    },
    "id": "FKfN7UK4IMfu",
    "outputId": "f88ed205-f0f0-4cf3-d358-07534786063a"
   },
   "outputs": [
    {
     "name": "stdout",
     "output_type": "stream",
     "text": [
      "110\n"
     ]
    }
   ],
   "source": [
    "l=[1,3,9,0,8,89]\n",
    "print(sum(l))"
   ]
  },
  {
   "cell_type": "markdown",
   "metadata": {
    "id": "O4jXQBKxJjeW"
   },
   "source": [
    "Multiply all numbers in the list"
   ]
  },
  {
   "cell_type": "code",
   "execution_count": 21,
   "metadata": {
    "colab": {
     "base_uri": "https://localhost:8080/"
    },
    "executionInfo": {
     "elapsed": 426,
     "status": "ok",
     "timestamp": 1728022299688,
     "user": {
      "displayName": "Dipta Chatterjee",
      "userId": "00567351410858233334"
     },
     "user_tz": -330
    },
    "id": "IekRwoJKJamg",
    "outputId": "8aa1120f-4379-4e43-c550-63db09db5e27"
   },
   "outputs": [
    {
     "data": {
      "text/plain": [
       "173016"
      ]
     },
     "execution_count": 21,
     "metadata": {},
     "output_type": "execute_result"
    }
   ],
   "source": [
    "l=[1,3,9,9,8,89]\n",
    "m=1\n",
    "for i in l:\n",
    "   m=m*i\n",
    "m\n"
   ]
  },
  {
   "cell_type": "code",
   "execution_count": null,
   "metadata": {},
   "outputs": [],
   "source": []
  },
  {
   "cell_type": "markdown",
   "metadata": {
    "id": "bGB_zZ5NJ9zv"
   },
   "source": [
    "Cumulative sum of a list"
   ]
  },
  {
   "cell_type": "code",
   "execution_count": 22,
   "metadata": {
    "colab": {
     "base_uri": "https://localhost:8080/"
    },
    "executionInfo": {
     "elapsed": 530,
     "status": "ok",
     "timestamp": 1728283068691,
     "user": {
      "displayName": "Dipta Chatterjee",
      "userId": "00567351410858233334"
     },
     "user_tz": -330
    },
    "id": "tfN6zaf4J5ZH",
    "outputId": "50a0c0e5-5dd1-4c77-de7a-6fce9c9715fc"
   },
   "outputs": [
    {
     "data": {
      "text/plain": [
       "[1, 3, 6, 10]"
      ]
     },
     "execution_count": 22,
     "metadata": {},
     "output_type": "execute_result"
    }
   ],
   "source": [
    "def cs(l):\n",
    "    cumsum=[]\n",
    "    sum=0\n",
    "    for i in l:\n",
    "        sum+=i\n",
    "        cumsum.append(sum)\n",
    "    return cumsum\n",
    "cs([1,2,3,4])\n",
    "\n"
   ]
  },
  {
   "cell_type": "markdown",
   "metadata": {
    "id": "lUoKWnto3sW5"
   },
   "source": [
    "Remove elements from a list"
   ]
  },
  {
   "cell_type": "code",
   "execution_count": 23,
   "metadata": {
    "colab": {
     "base_uri": "https://localhost:8080/"
    },
    "executionInfo": {
     "elapsed": 1056,
     "status": "ok",
     "timestamp": 1728303250527,
     "user": {
      "displayName": "Dipta Chatterjee",
      "userId": "00567351410858233334"
     },
     "user_tz": -330
    },
    "id": "0EvfHC8GsjG1",
    "outputId": "1f3097ce-bcb0-4851-80ea-51f9ba03b9b4"
   },
   "outputs": [
    {
     "data": {
      "text/plain": [
       "[1, 5, 6, 7, 8, 76]"
      ]
     },
     "execution_count": 23,
     "metadata": {},
     "output_type": "execute_result"
    }
   ],
   "source": [
    "l=[4,2,1,5,6,7,8,9,76]\n",
    "remove=[4,2,9]\n",
    "for i in remove:\n",
    "    if i in l:\n",
    "        l.remove(i)\n",
    "l"
   ]
  },
  {
   "cell_type": "code",
   "execution_count": 24,
   "metadata": {},
   "outputs": [],
   "source": [
    "l=[4,2,1,5,6,7,8,9,76]\n",
    "l.remove(4)"
   ]
  },
  {
   "cell_type": "markdown",
   "metadata": {
    "id": "OG30OgJr7ki_"
   },
   "source": [
    "Print duplicates from a list of integers"
   ]
  },
  {
   "cell_type": "code",
   "execution_count": 25,
   "metadata": {
    "colab": {
     "base_uri": "https://localhost:8080/"
    },
    "executionInfo": {
     "elapsed": 4,
     "status": "ok",
     "timestamp": 1728304065956,
     "user": {
      "displayName": "Dipta Chatterjee",
      "userId": "00567351410858233334"
     },
     "user_tz": -330
    },
    "id": "FWwtljQu4ZMG",
    "outputId": "f69d7a25-d6e1-41e2-d980-13cf61db082a"
   },
   "outputs": [
    {
     "data": {
      "text/plain": [
       "[4, 2, 9, 7]"
      ]
     },
     "execution_count": 25,
     "metadata": {},
     "output_type": "execute_result"
    }
   ],
   "source": [
    "l=[4,2,4,2,9,7,1,5,6,7,8,9,76]\n",
    "l2={}\n",
    "for i in l:\n",
    "   if i in l2.keys():\n",
    "    l2[i]+=1\n",
    "   else:\n",
    "    l2[i]=1\n",
    "l2\n",
    "l3=[]\n",
    "for keys,value in l2.items():\n",
    "    if value>1:\n",
    "        l3.append(keys)\n",
    "l3\n"
   ]
  },
  {
   "cell_type": "code",
   "execution_count": null,
   "metadata": {},
   "outputs": [],
   "source": [
    "# Q1 Find the Intersection (common elements) of Two Lists? \n",
    "\n",
    "list1 = [1,2,4,5]\n",
    "list2 = [4,5,6,7,8]\n",
    "\n",
    "# using for loop \n",
    "def intersection_loop(lst1, lst2):\n",
    "    common_list = []\n",
    "    for item in lst1:\n",
    "        if item in lst2 and item not in common_list:\n",
    "            common_list.append(item)\n",
    "    return common_list \n",
    "\n",
    "# print(intersection_loop(list1, list2)) \n",
    "\n",
    "# using List comprehension \n",
    "def intersection_comp(lst1, lst2):\n",
    "    return [item for item in lst1 if item in lst2] \n",
    "\n",
    "# print(intersection_comp(list1, list2)) \n",
    "\n",
    "\n"
   ]
  },
  {
   "cell_type": "code",
   "execution_count": null,
   "metadata": {},
   "outputs": [],
   "source": [
    "# Q2 Find the Most Frequent Element in a List? \n",
    "numbers = [1,2,2,3,3,3,4,7,7,7,7]\n",
    "\n",
    "def most_freq(lst):\n",
    "    max_count = 0 \n",
    "    most_freq = None \n",
    "    for item in lst:\n",
    "        count = lst.count(item)\n",
    "        if count > max_count:\n",
    "            max_count = count \n",
    "            most_freq = item \n",
    "    return most_freq \n",
    "\n",
    "# print(most_freq(numbers))\n",
    "\n",
    "\n",
    "\n"
   ]
  },
  {
   "cell_type": "code",
   "execution_count": null,
   "metadata": {},
   "outputs": [],
   "source": [
    "# Q3 Find Cumulative Sum of a List\n",
    "numbers = [1, 2, 3, 4]\n",
    "\n",
    "def cumulative_sum(lst):\n",
    "    cum_sum = [] \n",
    "    total = 0 \n",
    "    for num in lst: \n",
    "        total += num \n",
    "        cum_sum.append(total) \n",
    "    return cum_sum \n",
    "\n",
    "# print(cumulative_sum(numbers)) # Using List Comp: print([sum(numbers[:i + 1]) for i in range(len(numbers))])\n",
    "\n",
    "\n"
   ]
  },
  {
   "cell_type": "code",
   "execution_count": null,
   "metadata": {},
   "outputs": [],
   "source": [
    "# Q4 Remove Duplicates from a List \n",
    "fruits = [\"apple\", \"banana\", \"mango\", \"apple\", \"banana\"]\n",
    "\n",
    "# using loop \n",
    "def remove_duplicates(lst):\n",
    "    unique = []\n",
    "    seen = set()\n",
    "    for item in lst: \n",
    "        if item not in seen:\n",
    "            unique.append(item)\n",
    "            seen.add(item)\n",
    "    return unique \n",
    "\n",
    "# print(remove_duplicates(fruits)) \n",
    "\n",
    "# without seen, but not good for large dataset -list\n",
    "def remove_duplicates(lst):\n",
    "    unique = []\n",
    "    for item in lst: \n",
    "        if item not in unique:\n",
    "            unique.append(item)\n",
    "    return unique \n",
    "\n",
    "# print(remove_duplicates(fruits))  \n",
    "\n",
    "# using set constructor \n",
    "# print(list(set(fruits))) \n",
    "\n",
    "\n"
   ]
  },
  {
   "cell_type": "code",
   "execution_count": null,
   "metadata": {},
   "outputs": [],
   "source": [
    "\n",
    "# Q6 Find the Most Frequent Value in a dictionary\n",
    "data = {'a': 1, 'b': 2, 'c': 1, 'd': 3, 'e': 1} \n",
    "\n",
    "def most_freq(dct):\n",
    "    frequency = {}\n",
    "    for value in dct.values():\n",
    "        if value not in frequency:\n",
    "            frequency[value] = 0\n",
    "        frequency[value] += 1 # 1:1, 2:1, 1:2,3:1, 1:3\n",
    "    max_value = max(frequency, key=frequency.get)\n",
    "    return max_value\n",
    "\n",
    "# print(most_freq(data)) \n",
    "\n"
   ]
  },
  {
   "cell_type": "code",
   "execution_count": null,
   "metadata": {},
   "outputs": [],
   "source": [
    "\n",
    "# Q9 Sort a Dictionary by Values\n",
    "\n",
    "data = {'a': 5, 'b': 9, 'c': 2, 'd': 7} \n",
    "\n",
    "# [('a',5), ('b', 9)....]\n",
    "\n",
    "def sort_by_values(data):\n",
    "    sorted_items = sorted(data.items(), \n",
    "                          key = lambda item: item[1],\n",
    "                          reverse=True)\n",
    "    return {key: value for key , value in sorted_items} \n",
    "\n",
    "print(sort_by_values(data)) \n",
    "\n",
    "# print(sorted([1,2,0,2,8], reverse=True))\n",
    "\n",
    "# print(data.items())\n",
    "\n"
   ]
  },
  {
   "cell_type": "code",
   "execution_count": null,
   "metadata": {},
   "outputs": [],
   "source": [
    "\n",
    "# Q10 Access values from a nested dictionary \n",
    "\n",
    "data = {\n",
    "    \"level1\": {\n",
    "        \"level2\": {\n",
    "            \"level3\": {\n",
    "                \"value1\": 10,\n",
    "                \"value2\": [1, 2, {\"deep_key\": 42}],\n",
    "                \"value3\": {\"inner_key\": \"target\"}\n",
    "            },\n",
    "            \"other_key\": 99\n",
    "        },\n",
    "        \"list_key\": [\n",
    "            {\"list_inner_key1\": 88},\n",
    "            {\"list_inner_key2\": {\"deep_list_key\": 77}}\n",
    "        ]\n",
    "    }\n",
    "}\n",
    "\n",
    "#  Tasks to Access Elements:\n",
    "# Retrieve 42 \n",
    "# Retrieve \"target\" \n",
    "# Retrieve 77\n",
    "\n",
    "\n",
    "# 10 Access values from a nested dictionary – Solution\n",
    "\n",
    "# Tasks to Access Elements\n",
    "# Retrieve 42. Path: data -> level1 -> level2 -> level3 -> value2 -> [2] -> deep_key\n",
    "print(data[\"level1\"][\"level2\"][\"level3\"][\"value2\"][2][\"deep_key\"])\n",
    "\n",
    "# Retrieve \"target\". Path: data -> level1 -> level2 -> level3 -> value3 -> inner_key\n",
    "print(data[\"level1\"][\"level2\"][\"level3\"][\"value3\"][\"inner_key\"])\n",
    "\n",
    "# Retrieve 77. Path: data -> level1 -> list_key -> [1] -> list_inner_key2 -> deep_list_key\n",
    "print(data[\"level1\"][\"list_key\"][1][\"list_inner_key2\"][\"deep_list_key\"])"
   ]
  },
  {
   "cell_type": "code",
   "execution_count": null,
   "metadata": {},
   "outputs": [],
   "source": [
    "#3.  Slice to get only the middle character(s): For my_string = \"Madhav\", use slicing to extract the middle character(s).\n",
    "my_string = \"Madhav\"    # 6 chars - even\n",
    "# index:     012345\n",
    "my_string2 = \"Madhava\"  # 7 chars - odd \n",
    "# index:      0123456\n",
    "\n",
    "def mid_str(word):\n",
    "    middle = int(len(word)/2)               #3\n",
    "    if len(word) % 2 == 0:                  # even char len - 2 middle char\n",
    "        return word[middle-1 : middle+1]    #2:4\n",
    "    else:                                   # odd char len - 1 middle char\n",
    "        return word[middle]\n",
    "\n",
    "print(mid_str(my_string2))\n"
   ]
  },
  {
   "cell_type": "code",
   "execution_count": null,
   "metadata": {},
   "outputs": [],
   "source": [
    "#4. Remove the first 3 and last 3 characters: Given my_string = \"Regression Analysis\", remove the first 3 and last 3 characters.\n",
    "\n",
    "my_string = \"Regression Analysis\"\n",
    "\n",
    "print(my_string[3:-3])"
   ]
  },
  {
   "cell_type": "code",
   "execution_count": null,
   "metadata": {},
   "outputs": [],
   "source": []
  }
 ],
 "metadata": {
  "colab": {
   "authorship_tag": "ABX9TyOC10lNJPplQM0Lm8XzMRPl",
   "provenance": []
  },
  "kernelspec": {
   "display_name": "myenv",
   "language": "python",
   "name": "python3"
  },
  "language_info": {
   "codemirror_mode": {
    "name": "ipython",
    "version": 3
   },
   "file_extension": ".py",
   "mimetype": "text/x-python",
   "name": "python",
   "nbconvert_exporter": "python",
   "pygments_lexer": "ipython3",
   "version": "3.11.5"
  }
 },
 "nbformat": 4,
 "nbformat_minor": 0
}
